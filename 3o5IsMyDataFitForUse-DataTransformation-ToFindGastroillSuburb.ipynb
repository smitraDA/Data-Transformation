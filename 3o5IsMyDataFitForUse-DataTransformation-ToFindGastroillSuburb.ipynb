{
 "cells": [
  {
   "cell_type": "markdown",
   "metadata": {},
   "source": [
    "# Theory:\n",
    "3o5 Is my data fit for use?\n",
    "- Transform, clean and enrich our data as needed while ensuring that the\n",
    "changes we have made are valid."
   ]
  },
  {
   "cell_type": "markdown",
   "metadata": {},
   "source": [
    "# Project & Objective:\n",
    "\n",
    "This dataset is a modified version of food-borne gastrointestinal illness in the US in 1940. The data has been modified from the original to include Brisbane-based addresses and some more obvious data integrity issues have been injected.\n",
    "\n",
    "We need to find out which suburb had more food born gastro illness from the given dataset.\n"
   ]
  },
  {
   "cell_type": "markdown",
   "metadata": {},
   "source": [
    "# Used dataset:\n",
    "OswegoTutorial.csv"
   ]
  },
  {
   "cell_type": "markdown",
   "metadata": {},
   "source": [
    "# Used Library & Function:\n",
    "readr(Omit),tidyr(separate,aggregate)"
   ]
  },
  {
   "cell_type": "code",
   "execution_count": null,
   "metadata": {},
   "outputs": [],
   "source": [
    "# Mean age calculation\n",
    "library(readr)\n",
    "oswego <- read_csv(\"OswegoTutorial.csv\")\n",
    "oswego$age\n",
    "oswego$age[oswego$age == \"seven\"] <- \"7\"\n",
    "OmitNA<-na.omit(oswego$age) # The NA value is omitted and remaining data is stored in OmitNA\n",
    "AsNum<-as.numeric(OmitNA) # OmitNA from previous step is stored as numberic in AsNum\n",
    "AsNum\n",
    "print(mean(AsNum)) # Mean is calculated\n",
    "\n",
    "\n",
    "#Ill breakings months calculation\n",
    "library(tidyr)\n",
    "oswego_new <- separate(oswego, onsetdate, into = c(\"onset_day\", \"onset_month\"), sep = \"-\")\n",
    "head(oswego_new)\n",
    "#Now that we've separated the columns, we can directly query \"month\" to see the range of months that these outbreaks occurred.\n",
    "unique(oswego_new$onset_month)\n",
    "\n",
    "\n",
    "#Maximum illness occured postcodes calculation\n",
    "library(tidyr)\n",
    "oswego_address_separate <- separate(oswego, address, into = c(\"address\", \"suburb_name\", \"state\", \"postcode\"), sep = \",\")\n",
    "head(oswego_address_separate)\n",
    "oswego_ill <- oswego_address_separate[oswego_address_separate[,4]==\"yes\",]\n",
    "oswego_ill\n",
    "###### Solution 1\n",
    "#filter data with those who are ill\n",
    "oswego_ill <- oswego_address_separate[oswego_address_separate[,4]==\"yes\",]\n",
    "#aggregate by postcode\n",
    "Postcode_Count = aggregate(ill~postcode, oswego_ill, length)\n",
    "#find and display postcode with maximum occurances of ill\n",
    "Postcode_Max <- Postcode_Count[Postcode_Count[,2]== max(Postcode_Count$ill), ] \n",
    "Postcode_Max\n"
   ]
  },
  {
   "cell_type": "markdown",
   "metadata": {},
   "source": [
    "# Findings:\n",
    "\n",
    "We found postcode 4006 and 4010 had more occurences of illness ,which was 5 for each."
   ]
  }
 ],
 "metadata": {
  "kernelspec": {
   "display_name": "R",
   "language": "R",
   "name": "ir"
  },
  "language_info": {
   "codemirror_mode": "r",
   "file_extension": ".r",
   "mimetype": "text/x-r-source",
   "name": "R",
   "pygments_lexer": "r",
   "version": "3.4.4"
  }
 },
 "nbformat": 4,
 "nbformat_minor": 2
}
